{
 "cells": [
  {
   "cell_type": "code",
   "execution_count": null,
   "id": "ff0cda73-6ee9-496d-84fb-a0be925b99dc",
   "metadata": {},
   "outputs": [],
   "source": []
  }
 ],
 "metadata": {
  "kernelspec": {
   "display_name": "",
   "name": ""
  },
  "language_info": {
   "name": ""
  }
 },
 "nbformat": 4,
 "nbformat_minor": 5
}
