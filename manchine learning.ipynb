{
 "cells": [
  {
   "cell_type": "markdown",
   "id": "43c995d2-4672-4069-8088-9a4b1c53788c",
   "metadata": {},
   "source": [
    "Machine Learning Project Lifecycle:-\n"
   ]
  },
  {
   "cell_type": "markdown",
   "id": "68f52d2c-7bd6-4694-a0c3-ecbfeaf655d6",
   "metadata": {},
   "source": [
    "1)Problem Statement \n",
    "2)Data collections\n",
    "3)Data Preprocessing\n",
    "4)Exploratory Data Analysis(EDA)\n",
    "5)Feature Engineering\n",
    "6)Model Selection\n",
    "7)Model Evaluation\n",
    "8)Hyperparameter Tuning\n",
    "9)Model Deployment \n",
    "10)Monitoring and Maintenance"
   ]
  },
  {
   "cell_type": "code",
   "execution_count": null,
   "id": "a5fd1816-509d-4398-a3eb-ded5e01159bc",
   "metadata": {},
   "outputs": [],
   "source": [
    "\n"
   ]
  }
 ],
 "metadata": {
  "kernelspec": {
   "display_name": "Python 3 (ipykernel)",
   "language": "python",
   "name": "python3"
  },
  "language_info": {
   "codemirror_mode": {
    "name": "ipython",
    "version": 3
   },
   "file_extension": ".py",
   "mimetype": "text/x-python",
   "name": "python",
   "nbconvert_exporter": "python",
   "pygments_lexer": "ipython3",
   "version": "3.13.2"
  }
 },
 "nbformat": 4,
 "nbformat_minor": 5
}
